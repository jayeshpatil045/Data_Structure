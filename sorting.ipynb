{
 "cells": [
  {
   "cell_type": "markdown",
   "metadata": {},
   "source": [
    "'''\n",
    "\n",
    "@Author: Jayesh Patil\n",
    "\n",
    "@Date: 2024-09-17\n",
    "\n",
    "@Last Modified by: Jayesh Patil\n",
    "\n",
    "@Title: Sorting implementation and problems.\n",
    "\n",
    "'''"
   ]
  },
  {
   "cell_type": "markdown",
   "metadata": {},
   "source": [
    "Bubble Sort\n",
    ",Selection Sort\n",
    ",Merge Sort\n",
    ",Quick Sort\n",
    ",Insertion Sort"
   ]
  },
  {
   "cell_type": "code",
   "execution_count": 67,
   "metadata": {},
   "outputs": [],
   "source": [
    "def bubble_sort(arr):\n",
    "    \"\"\"\n",
    "    Description:\n",
    "        Sorts a list in ascending order using the bubble sort algorithm.\n",
    "        The algorithm repeatedly steps through the list, compares adjacent elements, and swaps them if they are in the wrong order.\n",
    "        This process is repeated until the list is sorted.\n",
    "\n",
    "    Parameters:\n",
    "        arr (list): A list of elements to be sorted. The elements should be comparable (e.g., integers, floats).\n",
    "\n",
    "    Returns:\n",
    "        list: The sorted list in ascending order.\n",
    "    \"\"\"\n",
    "    for i in range(len(arr) - 1):\n",
    "        flag = 0\n",
    "        for j in range(len(arr) - 1 - i):\n",
    "            if arr[j] > arr[j + 1]:\n",
    "                arr[j], arr[j + 1] = arr[j + 1], arr[j] \n",
    "                flag = 1\n",
    "\n",
    "        if flag == 0:\n",
    "            break \n",
    "\n",
    "    return arr\n"
   ]
  },
  {
   "cell_type": "code",
   "execution_count": 68,
   "metadata": {},
   "outputs": [
    {
     "name": "stdout",
     "output_type": "stream",
     "text": [
      "Unsorted Array\n",
      "[6, 5, 12, 10, 9, 1, 90]\n",
      "Sorted Array in Ascending Order:\n",
      "[1, 5, 6, 9, 10, 12, 90]\n"
     ]
    }
   ],
   "source": [
    "arr = [6, 5, 12, 10, 9, 1,90]\n",
    "print(\"Unsorted Array\")\n",
    "print(arr)\n",
    "bubble_sort(arr)\n",
    "print('Sorted Array in Ascending Order:')\n",
    "print(arr)"
   ]
  },
  {
   "cell_type": "code",
   "execution_count": 69,
   "metadata": {},
   "outputs": [],
   "source": [
    "def selection_sort(arr):\n",
    "    \"\"\"\n",
    "    Description:\n",
    "        Sorts a list in ascending order using the selection sort algorithm.\n",
    "        The algorithm repeatedly selects the smallest (or largest) element from the unsorted portion of the list \n",
    "        and moves it to the beginning (or end) of the sorted portion.\n",
    "\n",
    "    Parameters:\n",
    "        arr (list): A list of elements to be sorted. The elements should be comparable (e.g., integers, floats).\n",
    "\n",
    "    Returns:\n",
    "        list: The sorted list in ascending order.\n",
    "    \"\"\"\n",
    "    for i in range(len(arr) - 1):\n",
    "        min_index = i  \n",
    "        for j in range(i + 1, len(arr)):\n",
    "            if arr[j] < arr[min_index]:\n",
    "                min_index = j \n",
    "        \n",
    "        arr[i], arr[min_index] = arr[min_index], arr[i]\n",
    "\n",
    "    return arr\n"
   ]
  },
  {
   "cell_type": "code",
   "execution_count": 70,
   "metadata": {},
   "outputs": [
    {
     "name": "stdout",
     "output_type": "stream",
     "text": [
      "Unsorted Array\n",
      "[6, 5, 12, 10, 9, 1, 90]\n",
      "Sorted Array in Ascending Order:\n",
      "[1, 5, 6, 9, 10, 12, 90]\n"
     ]
    }
   ],
   "source": [
    "arr = [6, 5, 12, 10, 9, 1,90]\n",
    "print(\"Unsorted Array\")\n",
    "print(arr)\n",
    "selection_sort(arr)\n",
    "print('Sorted Array in Ascending Order:')\n",
    "print(arr)"
   ]
  },
  {
   "cell_type": "code",
   "execution_count": 71,
   "metadata": {},
   "outputs": [],
   "source": [
    "def merge_sort(arr):\n",
    "    \"\"\"\n",
    "    Description:\n",
    "        Sorts a list in ascending order using the merge sort algorithm.\n",
    "        Merge sort is a divide-and-conquer algorithm that divides the list into halves, \n",
    "        recursively sorts each half, and then merges the sorted halves.\n",
    "\n",
    "    Parameters:\n",
    "        arr (list): A list of elements to be sorted. The elements should be comparable (e.g., integers, floats).\n",
    "\n",
    "    Returns:\n",
    "        list: The sorted list in ascending order.\n",
    "    \"\"\"\n",
    "    if len(arr) <= 1:\n",
    "        return arr  \n",
    "\n",
    "    mid = len(arr) // 2\n",
    "    left = arr[:mid]  \n",
    "    right = arr[mid:]\n",
    "\n",
    "    left = merge_sort(left) \n",
    "    right = merge_sort(right)  \n",
    "\n",
    "    return merge_sorted_two_list(left, right) \n",
    "\n",
    "def merge_sorted_two_list(a, b):\n",
    "    \"\"\"\n",
    "    Description:\n",
    "        Merges two sorted lists into a single sorted list.\n",
    "        The function combines two sorted lists into one sorted list by comparing the elements of both lists.\n",
    "\n",
    "    Parameters:\n",
    "        a (list): A sorted list of elements.\n",
    "        b (list): Another sorted list of elements.\n",
    "\n",
    "    Returns:\n",
    "        list: A single sorted list containing all elements from both input lists.\n",
    "    \"\"\"\n",
    "    sorted_list = []\n",
    "    len_a = len(a)\n",
    "    len_b = len(b)\n",
    "    i = j = 0\n",
    "\n",
    "    while i < len_a and j < len_b:\n",
    "        if a[i] <= b[j]:\n",
    "            sorted_list.append(a[i])\n",
    "            i += 1\n",
    "        else:\n",
    "            sorted_list.append(b[j])\n",
    "            j += 1\n",
    "\n",
    "    while i < len_a:\n",
    "        sorted_list.append(a[i])\n",
    "        i += 1\n",
    "\n",
    "    while j < len_b:\n",
    "        sorted_list.append(b[j])\n",
    "        j += 1\n",
    "\n",
    "    return sorted_list\n"
   ]
  },
  {
   "cell_type": "code",
   "execution_count": 72,
   "metadata": {},
   "outputs": [
    {
     "data": {
      "text/plain": [
       "[1, 5, 6, 9, 10, 12, 90]"
      ]
     },
     "execution_count": 72,
     "metadata": {},
     "output_type": "execute_result"
    }
   ],
   "source": [
    "arr = [6, 5, 12, 10, 9, 1,90]\n",
    "merge_sort(arr)\n"
   ]
  },
  {
   "cell_type": "code",
   "execution_count": 73,
   "metadata": {},
   "outputs": [],
   "source": [
    "def partition(array, low, high):\n",
    "    \"\"\"\n",
    "    Description:\n",
    "        Partitions a segment of an array into two parts based on a pivot element.\n",
    "        Elements less than or equal to the pivot are moved to the left of the pivot,\n",
    "        and elements greater than the pivot are moved to the right. The pivot is placed\n",
    "        in its correct position in the sorted array.\n",
    "\n",
    "    Parameters:\n",
    "        array (list): The list of elements to be partitioned.\n",
    "        low (int): The starting index of the segment to be partitioned.\n",
    "        high (int): The ending index of the segment to be partitioned.\n",
    "\n",
    "    Returns:\n",
    "        int: The index of the pivot element after partitioning.\n",
    "    \"\"\"\n",
    "    pivot = array[high]  # Choose the last element as the pivot\n",
    "    i = low - 1  # Initialize the index of the smaller element\n",
    "\n",
    "    for j in range(low, high):\n",
    "        if array[j] <= pivot:\n",
    "            i = i + 1  # Increment the index of the smaller element\n",
    "            array[i], array[j] = array[j], array[i]  # Swap elements\n",
    "\n",
    "    array[i + 1], array[high] = array[high], array[i + 1]  # Place the pivot in the correct position\n",
    "    return i + 1  # Return the index of the pivot\n",
    "\n",
    "def quickSort(array, low, high):\n",
    "    \"\"\"\n",
    "    Description:\n",
    "        Sorts a list in ascending order using the quicksort algorithm.\n",
    "        The algorithm selects a pivot element, partitions the list into elements\n",
    "        less than or equal to the pivot and elements greater than the pivot,\n",
    "        and recursively applies the same process to the sublists.\n",
    "\n",
    "    Parameters:\n",
    "        array (list): The list of elements to be sorted.\n",
    "        low (int): The starting index of the segment to be sorted.\n",
    "        high (int): The ending index of the segment to be sorted.\n",
    "\n",
    "    Returns:\n",
    "        None: The function sorts the list in place and does not return any value.\n",
    "    \"\"\"\n",
    "    if low < high:\n",
    "        pi = partition(array, low, high)  # Partition the list and get the pivot index\n",
    "        quickSort(array, low, pi - 1)  # Recursively sort the left sublist\n",
    "        quickSort(array, pi + 1, high)  # Recursively sort the right sublist\n"
   ]
  },
  {
   "cell_type": "code",
   "execution_count": 74,
   "metadata": {},
   "outputs": [
    {
     "name": "stdout",
     "output_type": "stream",
     "text": [
      "Unsorted Array\n",
      "[8, 7, 2, 1, 0, 9, 6]\n",
      "Sorted Array in Ascending Order:\n",
      "[0, 1, 2, 6, 7, 8, 9]\n"
     ]
    }
   ],
   "source": [
    "\n",
    "data = [8, 7, 2, 1, 0, 9, 6]\n",
    "print(\"Unsorted Array\")\n",
    "print(data)\n",
    "\n",
    "size = len(data)\n",
    "\n",
    "quickSort(data, 0, size - 1)\n",
    "\n",
    "print('Sorted Array in Ascending Order:')\n",
    "print(data)"
   ]
  }
 ],
 "metadata": {
  "kernelspec": {
   "display_name": "Python 3",
   "language": "python",
   "name": "python3"
  },
  "language_info": {
   "codemirror_mode": {
    "name": "ipython",
    "version": 3
   },
   "file_extension": ".py",
   "mimetype": "text/x-python",
   "name": "python",
   "nbconvert_exporter": "python",
   "pygments_lexer": "ipython3",
   "version": "3.12.5"
  }
 },
 "nbformat": 4,
 "nbformat_minor": 2
}
