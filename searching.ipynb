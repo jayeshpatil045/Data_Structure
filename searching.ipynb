{
 "cells": [
  {
   "cell_type": "markdown",
   "metadata": {},
   "source": [
    "'''\n",
    "\n",
    "@Author: Jayesh Patil\n",
    "\n",
    "@Date: 2024-09-16\n",
    "\n",
    "@Last Modified by: Jayesh Patil\n",
    "\n",
    "@Title: Searching implementation and problems.\n",
    "\n",
    "'''"
   ]
  },
  {
   "cell_type": "markdown",
   "metadata": {},
   "source": [
    "Linear Searching\n",
    "\n"
   ]
  },
  {
   "cell_type": "code",
   "execution_count": 70,
   "metadata": {},
   "outputs": [],
   "source": [
    "def linear_search(arr, item):\n",
    "    \"\"\"\n",
    "    Description:\n",
    "        Searches for the given item in the array using the linear search algorithm.\n",
    "        It iterates through the array, checking each element to see if it matches the item.\n",
    "\n",
    "    Parameters:\n",
    "        arr (list): The list in which to search for the item.\n",
    "        item (Any): The value to be searched for in the array.\n",
    "\n",
    "    Returns:\n",
    "        int: The index of the item if found.\n",
    "        int: -1 if the item is not found in the array.\n",
    "    \"\"\"\n",
    "    for i in range(len(arr)):\n",
    "        if arr[i] == item:\n",
    "            return i\n",
    "    return -1\n"
   ]
  },
  {
   "cell_type": "code",
   "execution_count": 71,
   "metadata": {},
   "outputs": [
    {
     "name": "stdout",
     "output_type": "stream",
     "text": [
      "The Given list is :[12, 34, 56, 1, 67, 100, 47, 99] \n",
      "item to search from list: 100\n",
      "the index postion of item : 5\n"
     ]
    }
   ],
   "source": [
    "arr = [12,34,56,1,67,100,47,99]\n",
    "print(f\"The Given list is :{arr} \")\n",
    "print(\"item to search from list: 100\")\n",
    "index = linear_search(arr,100)\n",
    "print(f\"the index postion of item : {index}\")"
   ]
  },
  {
   "cell_type": "markdown",
   "metadata": {},
   "source": [
    "Binary Searching"
   ]
  },
  {
   "cell_type": "code",
   "execution_count": 72,
   "metadata": {},
   "outputs": [],
   "source": [
    "def binary_search(arr, item):\n",
    "    \"\"\"\n",
    "    Description:\n",
    "        Searches for the given item in a sorted array using the binary search algorithm.\n",
    "        It repeatedly divides the array into two halves and narrows down the search to the half \n",
    "        where the item could be, based on comparisons.\n",
    "\n",
    "    Parameters:\n",
    "        arr (list): A sorted list in which to search for the item.\n",
    "        item (Any): The value to be searched for in the array.\n",
    "\n",
    "    Returns:\n",
    "        int: The index of the item if found.\n",
    "        int: -1 if the item is not found in the array.\n",
    "    \"\"\"\n",
    "    left = 0\n",
    "    right = len(arr) - 1\n",
    "    while left <= right:\n",
    "        mid = (left + right) // 2\n",
    "        if arr[mid] == item:\n",
    "            return mid\n",
    "        elif arr[mid] < item:\n",
    "            left = mid + 1\n",
    "        else:\n",
    "            right = mid - 1\n",
    "    return -1\n"
   ]
  },
  {
   "cell_type": "code",
   "execution_count": 73,
   "metadata": {},
   "outputs": [
    {
     "name": "stdout",
     "output_type": "stream",
     "text": [
      "The Given list is :[12, 34, 56, 1, 67, 100, 47, 99] \n",
      "item to search from list: 100\n",
      "the index postion of item : 5\n"
     ]
    }
   ],
   "source": [
    "arr = [12,34,56,1,67,100,47,99]\n",
    "print(f\"The Given list is :{arr} \")\n",
    "print(\"item to search from list: 100\")\n",
    "index = binary_search(arr,100)\n",
    "print(f\"the index postion of item : {index}\")"
   ]
  },
  {
   "cell_type": "markdown",
   "metadata": {},
   "source": [
    "Breadth First Search"
   ]
  },
  {
   "cell_type": "code",
   "execution_count": 74,
   "metadata": {},
   "outputs": [],
   "source": [
    "def bfs(graph, root):\n",
    "    \"\"\"\n",
    "    Description:\n",
    "        Performs a breadth-first search (BFS) on a graph starting from the root node.\n",
    "        BFS explores all nodes at the present depth level before moving on to nodes at the next depth level.\n",
    "\n",
    "    Parameters:\n",
    "        graph (dict): A dictionary representing the graph where keys are nodes and values are lists of connected nodes.\n",
    "        root (Any): The starting node for the BFS traversal.\n",
    "\n",
    "    Returns:\n",
    "        set: A set of visited nodes in the order they were visited during the BFS traversal.\n",
    "    \"\"\"\n",
    "    visited = set() \n",
    "    queue = collections.deque([root])  \n",
    "\n",
    "    while queue:\n",
    "        vertex = queue.popleft() \n",
    "        visited.add(vertex) \n",
    "        for i in graph[vertex]:\n",
    "            if i not in visited:  \n",
    "                queue.append(i)  \n",
    "    return visited\n"
   ]
  },
  {
   "cell_type": "code",
   "execution_count": 75,
   "metadata": {},
   "outputs": [
    {
     "data": {
      "text/plain": [
       "{0, 1, 2, 3}"
      ]
     },
     "execution_count": 75,
     "metadata": {},
     "output_type": "execute_result"
    }
   ],
   "source": [
    "graph = {0:[1,2,3],1:[0,2],2:[0,1],3:[0],4:[2]}\n",
    "bfs(graph,0)"
   ]
  },
  {
   "cell_type": "markdown",
   "metadata": {},
   "source": [
    "Depth first search"
   ]
  },
  {
   "cell_type": "code",
   "execution_count": 76,
   "metadata": {},
   "outputs": [],
   "source": [
    "def dfs(graph, root):\n",
    "    \"\"\"\n",
    "    Description:\n",
    "        Performs a depth-first search (DFS) on a graph starting from the root node.\n",
    "        DFS explores as far down a branch as possible before backtracking to explore other branches.\n",
    "\n",
    "    Parameters:\n",
    "        graph (dict): A dictionary representing the graph where keys are nodes and values are lists of connected nodes.\n",
    "        root (Any): The starting node for the DFS traversal.\n",
    "\n",
    "    Returns:\n",
    "        set: A set of visited nodes in the order they were visited during the DFS traversal.\n",
    "    \"\"\"\n",
    "    visited = set()  \n",
    "    stack = [root]   \n",
    "\n",
    "    while stack:\n",
    "        vertex = stack.pop()  \n",
    "        if vertex not in visited:\n",
    "            visited.add(vertex)  \n",
    "            for i in graph[vertex]:  \n",
    "                if i not in visited:\n",
    "                    stack.append(i)\n",
    "                    \n",
    "    return visited\n"
   ]
  },
  {
   "cell_type": "code",
   "execution_count": 77,
   "metadata": {},
   "outputs": [
    {
     "name": "stdout",
     "output_type": "stream",
     "text": [
      "Visited nodes starting from 'A': {'B', 'E', 'A', 'C', 'F', 'G', 'D'}\n"
     ]
    }
   ],
   "source": [
    "graph = {\n",
    "    'A': ['B', 'C'],\n",
    "    'B': ['A', 'D', 'E'],\n",
    "    'C': ['A', 'F', 'G'],\n",
    "    'D': ['B'],\n",
    "    'E': ['B'],\n",
    "    'F': ['C'],\n",
    "    'G': ['C']\n",
    "}\n",
    "start_node = 'A'\n",
    "result = dfs(graph, start_node)\n",
    "print(f\"Visited nodes starting from '{start_node}': {result}\")"
   ]
  }
 ],
 "metadata": {
  "kernelspec": {
   "display_name": "Python 3",
   "language": "python",
   "name": "python3"
  },
  "language_info": {
   "codemirror_mode": {
    "name": "ipython",
    "version": 3
   },
   "file_extension": ".py",
   "mimetype": "text/x-python",
   "name": "python",
   "nbconvert_exporter": "python",
   "pygments_lexer": "ipython3",
   "version": "3.12.5"
  }
 },
 "nbformat": 4,
 "nbformat_minor": 2
}
